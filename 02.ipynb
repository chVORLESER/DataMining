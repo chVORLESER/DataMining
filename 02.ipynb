{
 "cells": [
  {
   "cell_type": "code",
   "execution_count": 16,
   "metadata": {
    "collapsed": true
   },
   "outputs": [],
   "source": [
    "import pandas as pd\n",
    "import matplotlib.pyplot as plt\n",
    "import seaborn as sns\n",
    "\n",
    "from scipy.stats import ttest_ind"
   ]
  },
  {
   "cell_type": "markdown",
   "source": [
    "# data loading"
   ],
   "metadata": {
    "collapsed": false
   }
  },
  {
   "cell_type": "code",
   "execution_count": 3,
   "outputs": [
    {
     "data": {
      "text/plain": "   user_id        date  source  device browser_language ads_channel  \\\n0   315281  2015-12-03  Direct     Web               ES         NaN   \n1   497851  2015-12-04     Ads     Web               ES      Google   \n2   848402  2015-12-04     Ads     Web               ES    Facebook   \n3   290051  2015-12-03     Ads  Mobile            Other    Facebook   \n4   548435  2015-11-30     Ads     Web               ES      Google   \n\n       browser  conversion  test  \n0           IE           1     0  \n1           IE           0     1  \n2       Chrome           0     0  \n3  Android_App           0     1  \n4      FireFox           0     1  ",
      "text/html": "<div>\n<style scoped>\n    .dataframe tbody tr th:only-of-type {\n        vertical-align: middle;\n    }\n\n    .dataframe tbody tr th {\n        vertical-align: top;\n    }\n\n    .dataframe thead th {\n        text-align: right;\n    }\n</style>\n<table border=\"1\" class=\"dataframe\">\n  <thead>\n    <tr style=\"text-align: right;\">\n      <th></th>\n      <th>user_id</th>\n      <th>date</th>\n      <th>source</th>\n      <th>device</th>\n      <th>browser_language</th>\n      <th>ads_channel</th>\n      <th>browser</th>\n      <th>conversion</th>\n      <th>test</th>\n    </tr>\n  </thead>\n  <tbody>\n    <tr>\n      <th>0</th>\n      <td>315281</td>\n      <td>2015-12-03</td>\n      <td>Direct</td>\n      <td>Web</td>\n      <td>ES</td>\n      <td>NaN</td>\n      <td>IE</td>\n      <td>1</td>\n      <td>0</td>\n    </tr>\n    <tr>\n      <th>1</th>\n      <td>497851</td>\n      <td>2015-12-04</td>\n      <td>Ads</td>\n      <td>Web</td>\n      <td>ES</td>\n      <td>Google</td>\n      <td>IE</td>\n      <td>0</td>\n      <td>1</td>\n    </tr>\n    <tr>\n      <th>2</th>\n      <td>848402</td>\n      <td>2015-12-04</td>\n      <td>Ads</td>\n      <td>Web</td>\n      <td>ES</td>\n      <td>Facebook</td>\n      <td>Chrome</td>\n      <td>0</td>\n      <td>0</td>\n    </tr>\n    <tr>\n      <th>3</th>\n      <td>290051</td>\n      <td>2015-12-03</td>\n      <td>Ads</td>\n      <td>Mobile</td>\n      <td>Other</td>\n      <td>Facebook</td>\n      <td>Android_App</td>\n      <td>0</td>\n      <td>1</td>\n    </tr>\n    <tr>\n      <th>4</th>\n      <td>548435</td>\n      <td>2015-11-30</td>\n      <td>Ads</td>\n      <td>Web</td>\n      <td>ES</td>\n      <td>Google</td>\n      <td>FireFox</td>\n      <td>0</td>\n      <td>1</td>\n    </tr>\n  </tbody>\n</table>\n</div>"
     },
     "execution_count": 3,
     "metadata": {},
     "output_type": "execute_result"
    }
   ],
   "source": [
    "test_data = pd.read_csv(r'C:/github/datamining/tkc_dataset/02. Translation_Test/test_table.csv')\n",
    "test_data.head()"
   ],
   "metadata": {
    "collapsed": false,
    "pycharm": {
     "name": "#%%\n"
    }
   }
  },
  {
   "cell_type": "code",
   "execution_count": 4,
   "outputs": [
    {
     "data": {
      "text/plain": "   user_id sex  age    country\n0   765821   M   20     Mexico\n1   343561   F   27  Nicaragua\n2   118744   M   23   Colombia\n3   987753   F   27  Venezuela\n4   554597   F   20      Spain",
      "text/html": "<div>\n<style scoped>\n    .dataframe tbody tr th:only-of-type {\n        vertical-align: middle;\n    }\n\n    .dataframe tbody tr th {\n        vertical-align: top;\n    }\n\n    .dataframe thead th {\n        text-align: right;\n    }\n</style>\n<table border=\"1\" class=\"dataframe\">\n  <thead>\n    <tr style=\"text-align: right;\">\n      <th></th>\n      <th>user_id</th>\n      <th>sex</th>\n      <th>age</th>\n      <th>country</th>\n    </tr>\n  </thead>\n  <tbody>\n    <tr>\n      <th>0</th>\n      <td>765821</td>\n      <td>M</td>\n      <td>20</td>\n      <td>Mexico</td>\n    </tr>\n    <tr>\n      <th>1</th>\n      <td>343561</td>\n      <td>F</td>\n      <td>27</td>\n      <td>Nicaragua</td>\n    </tr>\n    <tr>\n      <th>2</th>\n      <td>118744</td>\n      <td>M</td>\n      <td>23</td>\n      <td>Colombia</td>\n    </tr>\n    <tr>\n      <th>3</th>\n      <td>987753</td>\n      <td>F</td>\n      <td>27</td>\n      <td>Venezuela</td>\n    </tr>\n    <tr>\n      <th>4</th>\n      <td>554597</td>\n      <td>F</td>\n      <td>20</td>\n      <td>Spain</td>\n    </tr>\n  </tbody>\n</table>\n</div>"
     },
     "execution_count": 4,
     "metadata": {},
     "output_type": "execute_result"
    }
   ],
   "source": [
    "user_data = pd.read_csv(r'C:/github/datamining/tkc_dataset/02. Translation_Test/user_table.csv')\n",
    "user_data.head()"
   ],
   "metadata": {
    "collapsed": false,
    "pycharm": {
     "name": "#%%\n"
    }
   }
  },
  {
   "cell_type": "code",
   "execution_count": 5,
   "outputs": [
    {
     "name": "stdout",
     "output_type": "stream",
     "text": [
      "<class 'pandas.core.frame.DataFrame'>\n",
      "RangeIndex: 453321 entries, 0 to 453320\n",
      "Data columns (total 9 columns):\n",
      " #   Column            Non-Null Count   Dtype \n",
      "---  ------            --------------   ----- \n",
      " 0   user_id           453321 non-null  int64 \n",
      " 1   date              453321 non-null  object\n",
      " 2   source            453321 non-null  object\n",
      " 3   device            453321 non-null  object\n",
      " 4   browser_language  453321 non-null  object\n",
      " 5   ads_channel       181877 non-null  object\n",
      " 6   browser           453321 non-null  object\n",
      " 7   conversion        453321 non-null  int64 \n",
      " 8   test              453321 non-null  int64 \n",
      "dtypes: int64(3), object(6)\n",
      "memory usage: 31.1+ MB\n"
     ]
    }
   ],
   "source": [
    "test_data.info()"
   ],
   "metadata": {
    "collapsed": false,
    "pycharm": {
     "name": "#%%\n"
    }
   }
  },
  {
   "cell_type": "code",
   "execution_count": 6,
   "outputs": [
    {
     "data": {
      "text/plain": "              user_id     conversion           test\ncount   453321.000000  453321.000000  453321.000000\nmean    499937.514728       0.049579       0.476446\nstd     288665.193436       0.217073       0.499445\nmin          1.000000       0.000000       0.000000\n25%     249816.000000       0.000000       0.000000\n50%     500019.000000       0.000000       0.000000\n75%     749522.000000       0.000000       1.000000\nmax    1000000.000000       1.000000       1.000000",
      "text/html": "<div>\n<style scoped>\n    .dataframe tbody tr th:only-of-type {\n        vertical-align: middle;\n    }\n\n    .dataframe tbody tr th {\n        vertical-align: top;\n    }\n\n    .dataframe thead th {\n        text-align: right;\n    }\n</style>\n<table border=\"1\" class=\"dataframe\">\n  <thead>\n    <tr style=\"text-align: right;\">\n      <th></th>\n      <th>user_id</th>\n      <th>conversion</th>\n      <th>test</th>\n    </tr>\n  </thead>\n  <tbody>\n    <tr>\n      <th>count</th>\n      <td>453321.000000</td>\n      <td>453321.000000</td>\n      <td>453321.000000</td>\n    </tr>\n    <tr>\n      <th>mean</th>\n      <td>499937.514728</td>\n      <td>0.049579</td>\n      <td>0.476446</td>\n    </tr>\n    <tr>\n      <th>std</th>\n      <td>288665.193436</td>\n      <td>0.217073</td>\n      <td>0.499445</td>\n    </tr>\n    <tr>\n      <th>min</th>\n      <td>1.000000</td>\n      <td>0.000000</td>\n      <td>0.000000</td>\n    </tr>\n    <tr>\n      <th>25%</th>\n      <td>249816.000000</td>\n      <td>0.000000</td>\n      <td>0.000000</td>\n    </tr>\n    <tr>\n      <th>50%</th>\n      <td>500019.000000</td>\n      <td>0.000000</td>\n      <td>0.000000</td>\n    </tr>\n    <tr>\n      <th>75%</th>\n      <td>749522.000000</td>\n      <td>0.000000</td>\n      <td>1.000000</td>\n    </tr>\n    <tr>\n      <th>max</th>\n      <td>1000000.000000</td>\n      <td>1.000000</td>\n      <td>1.000000</td>\n    </tr>\n  </tbody>\n</table>\n</div>"
     },
     "execution_count": 6,
     "metadata": {},
     "output_type": "execute_result"
    }
   ],
   "source": [
    "test_data.describe()"
   ],
   "metadata": {
    "collapsed": false,
    "pycharm": {
     "name": "#%%\n"
    }
   }
  },
  {
   "cell_type": "code",
   "execution_count": 7,
   "outputs": [
    {
     "name": "stdout",
     "output_type": "stream",
     "text": [
      "<class 'pandas.core.frame.DataFrame'>\n",
      "RangeIndex: 452867 entries, 0 to 452866\n",
      "Data columns (total 4 columns):\n",
      " #   Column   Non-Null Count   Dtype \n",
      "---  ------   --------------   ----- \n",
      " 0   user_id  452867 non-null  int64 \n",
      " 1   sex      452867 non-null  object\n",
      " 2   age      452867 non-null  int64 \n",
      " 3   country  452867 non-null  object\n",
      "dtypes: int64(2), object(2)\n",
      "memory usage: 13.8+ MB\n"
     ]
    }
   ],
   "source": [
    "user_data.info()"
   ],
   "metadata": {
    "collapsed": false,
    "pycharm": {
     "name": "#%%\n"
    }
   }
  },
  {
   "cell_type": "code",
   "execution_count": 8,
   "outputs": [
    {
     "data": {
      "text/plain": "              user_id            age\ncount   452867.000000  452867.000000\nmean    499944.805166      27.130740\nstd     288676.264784       6.776678\nmin          1.000000      18.000000\n25%     249819.000000      22.000000\n50%     500019.000000      26.000000\n75%     749543.000000      31.000000\nmax    1000000.000000      70.000000",
      "text/html": "<div>\n<style scoped>\n    .dataframe tbody tr th:only-of-type {\n        vertical-align: middle;\n    }\n\n    .dataframe tbody tr th {\n        vertical-align: top;\n    }\n\n    .dataframe thead th {\n        text-align: right;\n    }\n</style>\n<table border=\"1\" class=\"dataframe\">\n  <thead>\n    <tr style=\"text-align: right;\">\n      <th></th>\n      <th>user_id</th>\n      <th>age</th>\n    </tr>\n  </thead>\n  <tbody>\n    <tr>\n      <th>count</th>\n      <td>452867.000000</td>\n      <td>452867.000000</td>\n    </tr>\n    <tr>\n      <th>mean</th>\n      <td>499944.805166</td>\n      <td>27.130740</td>\n    </tr>\n    <tr>\n      <th>std</th>\n      <td>288676.264784</td>\n      <td>6.776678</td>\n    </tr>\n    <tr>\n      <th>min</th>\n      <td>1.000000</td>\n      <td>18.000000</td>\n    </tr>\n    <tr>\n      <th>25%</th>\n      <td>249819.000000</td>\n      <td>22.000000</td>\n    </tr>\n    <tr>\n      <th>50%</th>\n      <td>500019.000000</td>\n      <td>26.000000</td>\n    </tr>\n    <tr>\n      <th>75%</th>\n      <td>749543.000000</td>\n      <td>31.000000</td>\n    </tr>\n    <tr>\n      <th>max</th>\n      <td>1000000.000000</td>\n      <td>70.000000</td>\n    </tr>\n  </tbody>\n</table>\n</div>"
     },
     "execution_count": 8,
     "metadata": {},
     "output_type": "execute_result"
    }
   ],
   "source": [
    "user_data.describe()"
   ],
   "metadata": {
    "collapsed": false,
    "pycharm": {
     "name": "#%%\n"
    }
   }
  },
  {
   "cell_type": "code",
   "execution_count": 9,
   "outputs": [
    {
     "name": "stdout",
     "output_type": "stream",
     "text": [
      "Test ID:\t 453321 \t True\n",
      "User ID:\t 452867 \t True\n"
     ]
    }
   ],
   "source": [
    "print('Test ID:\\t', len(test_data['user_id'].unique()), '\\t', len(test_data['user_id'].unique()) == len(test_data))\n",
    "print('User ID:\\t', len(user_data['user_id'].unique()), '\\t', len(user_data['user_id'].unique()) == len(user_data))"
   ],
   "metadata": {
    "collapsed": false,
    "pycharm": {
     "name": "#%%\n"
    }
   }
  },
  {
   "cell_type": "code",
   "execution_count": 10,
   "outputs": [
    {
     "data": {
      "text/plain": "   user_id        date  source  device browser_language ads_channel  \\\n0   315281  2015-12-03  Direct     Web               ES         NaN   \n1   497851  2015-12-04     Ads     Web               ES      Google   \n2   848402  2015-12-04     Ads     Web               ES    Facebook   \n3   290051  2015-12-03     Ads  Mobile            Other    Facebook   \n4   548435  2015-11-30     Ads     Web               ES      Google   \n\n       browser  conversion  test sex   age country  \n0           IE           1     0   M  32.0   Spain  \n1           IE           0     1   M  21.0  Mexico  \n2       Chrome           0     0   M  34.0   Spain  \n3  Android_App           0     1   F  22.0  Mexico  \n4      FireFox           0     1   M  19.0  Mexico  ",
      "text/html": "<div>\n<style scoped>\n    .dataframe tbody tr th:only-of-type {\n        vertical-align: middle;\n    }\n\n    .dataframe tbody tr th {\n        vertical-align: top;\n    }\n\n    .dataframe thead th {\n        text-align: right;\n    }\n</style>\n<table border=\"1\" class=\"dataframe\">\n  <thead>\n    <tr style=\"text-align: right;\">\n      <th></th>\n      <th>user_id</th>\n      <th>date</th>\n      <th>source</th>\n      <th>device</th>\n      <th>browser_language</th>\n      <th>ads_channel</th>\n      <th>browser</th>\n      <th>conversion</th>\n      <th>test</th>\n      <th>sex</th>\n      <th>age</th>\n      <th>country</th>\n    </tr>\n  </thead>\n  <tbody>\n    <tr>\n      <th>0</th>\n      <td>315281</td>\n      <td>2015-12-03</td>\n      <td>Direct</td>\n      <td>Web</td>\n      <td>ES</td>\n      <td>NaN</td>\n      <td>IE</td>\n      <td>1</td>\n      <td>0</td>\n      <td>M</td>\n      <td>32.0</td>\n      <td>Spain</td>\n    </tr>\n    <tr>\n      <th>1</th>\n      <td>497851</td>\n      <td>2015-12-04</td>\n      <td>Ads</td>\n      <td>Web</td>\n      <td>ES</td>\n      <td>Google</td>\n      <td>IE</td>\n      <td>0</td>\n      <td>1</td>\n      <td>M</td>\n      <td>21.0</td>\n      <td>Mexico</td>\n    </tr>\n    <tr>\n      <th>2</th>\n      <td>848402</td>\n      <td>2015-12-04</td>\n      <td>Ads</td>\n      <td>Web</td>\n      <td>ES</td>\n      <td>Facebook</td>\n      <td>Chrome</td>\n      <td>0</td>\n      <td>0</td>\n      <td>M</td>\n      <td>34.0</td>\n      <td>Spain</td>\n    </tr>\n    <tr>\n      <th>3</th>\n      <td>290051</td>\n      <td>2015-12-03</td>\n      <td>Ads</td>\n      <td>Mobile</td>\n      <td>Other</td>\n      <td>Facebook</td>\n      <td>Android_App</td>\n      <td>0</td>\n      <td>1</td>\n      <td>F</td>\n      <td>22.0</td>\n      <td>Mexico</td>\n    </tr>\n    <tr>\n      <th>4</th>\n      <td>548435</td>\n      <td>2015-11-30</td>\n      <td>Ads</td>\n      <td>Web</td>\n      <td>ES</td>\n      <td>Google</td>\n      <td>FireFox</td>\n      <td>0</td>\n      <td>1</td>\n      <td>M</td>\n      <td>19.0</td>\n      <td>Mexico</td>\n    </tr>\n  </tbody>\n</table>\n</div>"
     },
     "execution_count": 10,
     "metadata": {},
     "output_type": "execute_result"
    }
   ],
   "source": [
    "data = pd.merge(left=test_data, right=user_data, how='left', on='user_id')\n",
    "data.head()"
   ],
   "metadata": {
    "collapsed": false,
    "pycharm": {
     "name": "#%%\n"
    }
   }
  },
  {
   "cell_type": "code",
   "execution_count": 11,
   "outputs": [
    {
     "name": "stdout",
     "output_type": "stream",
     "text": [
      "<class 'pandas.core.frame.DataFrame'>\n",
      "Int64Index: 453321 entries, 0 to 453320\n",
      "Data columns (total 12 columns):\n",
      " #   Column            Non-Null Count   Dtype  \n",
      "---  ------            --------------   -----  \n",
      " 0   user_id           453321 non-null  int64  \n",
      " 1   date              453321 non-null  object \n",
      " 2   source            453321 non-null  object \n",
      " 3   device            453321 non-null  object \n",
      " 4   browser_language  453321 non-null  object \n",
      " 5   ads_channel       181877 non-null  object \n",
      " 6   browser           453321 non-null  object \n",
      " 7   conversion        453321 non-null  int64  \n",
      " 8   test              453321 non-null  int64  \n",
      " 9   sex               452867 non-null  object \n",
      " 10  age               452867 non-null  float64\n",
      " 11  country           452867 non-null  object \n",
      "dtypes: float64(1), int64(3), object(8)\n",
      "memory usage: 45.0+ MB\n"
     ]
    }
   ],
   "source": [
    "data.info()"
   ],
   "metadata": {
    "collapsed": false,
    "pycharm": {
     "name": "#%%\n"
    }
   }
  },
  {
   "cell_type": "markdown",
   "source": [
    "#data analysis\n",
    "A/B Test"
   ],
   "metadata": {
    "collapsed": false
   }
  },
  {
   "cell_type": "code",
   "execution_count": 13,
   "outputs": [
    {
     "data": {
      "text/plain": "<Figure size 1296x432 with 1 Axes>",
      "image/png": "[encoded data removed]"
     },
     "metadata": {
      "needs_background": "light"
     },
     "output_type": "display_data"
    }
   ],
   "source": [
    "groupby_country = data[data['test'] ==0][['conversion', 'country']].groupby('country').mean()\n",
    "groupby_country = groupby_country.reset_index()\n",
    "groupby_country = groupby_country.sort_values('conversion', ascending=False)\n",
    "\n",
    "fig, ax = plt.subplots(figsize=(18,6))\n",
    "sns.barplot(x='country', y='conversion', data=groupby_country, ax=ax)\n",
    "plt.show()"
   ],
   "metadata": {
    "collapsed": false,
    "pycharm": {
     "name": "#%%\n"
    }
   }
  },
  {
   "cell_type": "code",
   "execution_count": 14,
   "outputs": [
    {
     "data": {
      "text/plain": "<Figure size 1296x432 with 1 Axes>",
      "image/png": "[encoded data removed]"
     },
     "metadata": {
      "needs_background": "light"
     },
     "output_type": "display_data"
    }
   ],
   "source": [
    "fig, ax = plt.subplots(figsize=(18, 6))\n",
    "sns.barplot(x='country', y='conversion', hue='test', data=data, ax=ax)\n",
    "plt.show()"
   ],
   "metadata": {
    "collapsed": false,
    "pycharm": {
     "name": "#%%\n"
    }
   }
  },
  {
   "cell_type": "code",
   "execution_count": 15,
   "outputs": [
    {
     "name": "stdout",
     "output_type": "stream",
     "text": [
      "0.043424713982118966\n",
      "0.04833042316066309\n"
     ]
    }
   ],
   "source": [
    "test_data = data[data['country'] != 'Spain']\n",
    "test_val = test_data[test_data['test'] == 1]['conversion'].values\n",
    "cont_val = test_data[test_data['test'] == 0]['conversion'].values\n",
    "\n",
    "print(test_val.mean())\n",
    "print(cont_val.mean())"
   ],
   "metadata": {
    "collapsed": false,
    "pycharm": {
     "name": "#%%\n"
    }
   }
  },
  {
   "cell_type": "code",
   "execution_count": 17,
   "outputs": [
    {
     "name": "stdout",
     "output_type": "stream",
     "text": [
      "Ttest_indResult(statistic=-7.3939374121344805, pvalue=1.4282994754055316e-13)\n"
     ]
    }
   ],
   "source": [
    "print(ttest_ind(test_val, cont_val, equal_var=False))"
   ],
   "metadata": {
    "collapsed": false,
    "pycharm": {
     "name": "#%%\n"
    }
   }
  },
  {
   "cell_type": "code",
   "execution_count": 20,
   "outputs": [
    {
     "data": {
      "text/plain": "   user_id        date  source  device browser_language ads_channel  \\\n1   497851  2015-12-04     Ads     Web               ES      Google   \n3   290051  2015-12-03     Ads  Mobile            Other    Facebook   \n4   548435  2015-11-30     Ads     Web               ES      Google   \n5   540675  2015-12-03  Direct  Mobile               ES         NaN   \n6   863394  2015-12-04     SEO  Mobile            Other         NaN   \n\n       browser  conversion  test sex   age    country  \n1           IE           0     1   M  21.0     Mexico  \n3  Android_App           0     1   F  22.0     Mexico  \n4      FireFox           0     1   M  19.0     Mexico  \n5  Android_App           0     1   F  22.0  Venezuela  \n6  Android_App           0     0   M  35.0     Mexico  ",
      "text/html": "<div>\n<style scoped>\n    .dataframe tbody tr th:only-of-type {\n        vertical-align: middle;\n    }\n\n    .dataframe tbody tr th {\n        vertical-align: top;\n    }\n\n    .dataframe thead th {\n        text-align: right;\n    }\n</style>\n<table border=\"1\" class=\"dataframe\">\n  <thead>\n    <tr style=\"text-align: right;\">\n      <th></th>\n      <th>user_id</th>\n      <th>date</th>\n      <th>source</th>\n      <th>device</th>\n      <th>browser_language</th>\n      <th>ads_channel</th>\n      <th>browser</th>\n      <th>conversion</th>\n      <th>test</th>\n      <th>sex</th>\n      <th>age</th>\n      <th>country</th>\n    </tr>\n  </thead>\n  <tbody>\n    <tr>\n      <th>1</th>\n      <td>497851</td>\n      <td>2015-12-04</td>\n      <td>Ads</td>\n      <td>Web</td>\n      <td>ES</td>\n      <td>Google</td>\n      <td>IE</td>\n      <td>0</td>\n      <td>1</td>\n      <td>M</td>\n      <td>21.0</td>\n      <td>Mexico</td>\n    </tr>\n    <tr>\n      <th>3</th>\n      <td>290051</td>\n      <td>2015-12-03</td>\n      <td>Ads</td>\n      <td>Mobile</td>\n      <td>Other</td>\n      <td>Facebook</td>\n      <td>Android_App</td>\n      <td>0</td>\n      <td>1</td>\n      <td>F</td>\n      <td>22.0</td>\n      <td>Mexico</td>\n    </tr>\n    <tr>\n      <th>4</th>\n      <td>548435</td>\n      <td>2015-11-30</td>\n      <td>Ads</td>\n      <td>Web</td>\n      <td>ES</td>\n      <td>Google</td>\n      <td>FireFox</td>\n      <td>0</td>\n      <td>1</td>\n      <td>M</td>\n      <td>19.0</td>\n      <td>Mexico</td>\n    </tr>\n    <tr>\n      <th>5</th>\n      <td>540675</td>\n      <td>2015-12-03</td>\n      <td>Direct</td>\n      <td>Mobile</td>\n      <td>ES</td>\n      <td>NaN</td>\n      <td>Android_App</td>\n      <td>0</td>\n      <td>1</td>\n      <td>F</td>\n      <td>22.0</td>\n      <td>Venezuela</td>\n    </tr>\n    <tr>\n      <th>6</th>\n      <td>863394</td>\n      <td>2015-12-04</td>\n      <td>SEO</td>\n      <td>Mobile</td>\n      <td>Other</td>\n      <td>NaN</td>\n      <td>Android_App</td>\n      <td>0</td>\n      <td>0</td>\n      <td>M</td>\n      <td>35.0</td>\n      <td>Mexico</td>\n    </tr>\n  </tbody>\n</table>\n</div>"
     },
     "execution_count": 20,
     "metadata": {},
     "output_type": "execute_result"
    }
   ],
   "source": [
    "data = data[data['country'] != 'Spain']\n",
    "data.head()"
   ],
   "metadata": {
    "collapsed": false,
    "pycharm": {
     "name": "#%%\n"
    }
   }
  },
  {
   "cell_type": "code",
   "execution_count": 22,
   "outputs": [
    {
     "data": {
      "text/plain": "<Figure size 1296x432 with 2 Axes>",
      "image/png": "[encoded data removed]"
     },
     "metadata": {
      "needs_background": "light"
     },
     "output_type": "display_data"
    }
   ],
   "source": [
    "fig, ax = plt.subplots(nrows=1, ncols=2, figsize=(18,6))\n",
    "sns.countplot(x='date', hue='test', data=data, ax=ax[0])\n",
    "ax[0].set_title('Count Plot of Date', fontsize=16)\n",
    "\n",
    "sns.barplot(x='date', y='conversion', hue='test', data=data, ax=ax[1])\n",
    "ax[1].set_title('Mean Conversion Rate per Date', fontsize=16)\n",
    "plt.tight_layout()\n",
    "plt.show()"
   ],
   "metadata": {
    "collapsed": false,
    "pycharm": {
     "name": "#%%\n"
    }
   }
  },
  {
   "cell_type": "code",
   "execution_count": null,
   "outputs": [],
   "source": [
    "fig, ax =plt.subplots(nrows=1, ncols=2, figsize=(18,6))\n",
    "sns"
   ],
   "metadata": {
    "collapsed": false,
    "pycharm": {
     "name": "#%%\n"
    }
   }
  }
 ],
 "metadata": {
  "kernelspec": {
   "display_name": "Python 3",
   "language": "python",
   "name": "python3"
  },
  "language_info": {
   "codemirror_mode": {
    "name": "ipython",
    "version": 2
   },
   "file_extension": ".py",
   "mimetype": "text/x-python",
   "name": "python",
   "nbconvert_exporter": "python",
   "pygments_lexer": "ipython2",
   "version": "2.7.6"
  }
 },
 "nbformat": 4,
 "nbformat_minor": 0
}