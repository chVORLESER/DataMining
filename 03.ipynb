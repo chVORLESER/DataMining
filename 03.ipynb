{
 "cells": [
  {
   "cell_type": "code",
   "execution_count": 1,
   "metadata": {
    "collapsed": true
   },
   "outputs": [],
   "source": [
    "import torch\n",
    "import numpy as np\n",
    "import pandas as pd\n",
    "import seaborn as ana\n",
    "import matplotlib.pyplot as plt"
   ]
  },
  {
   "cell_type": "code",
   "execution_count": 2,
   "outputs": [
    {
     "data": {
      "text/plain": "   employee_id  company_id              dept  seniority    salary  join_date  \\\n0      13021.0           7  customer_service         28   89000.0 2014-03-24   \n1     825355.0           7         marketing         20  183000.0 2013-04-29   \n2     927315.0           4         marketing         14  101000.0 2014-10-13   \n3     662910.0           7  customer_service         20  115000.0 2012-05-14   \n4     256971.0           2      data_science         23  276000.0 2011-10-17   \n\n   quit_date  \n0 2015-10-30  \n1 2014-04-04  \n2        NaT  \n3 2013-06-07  \n4 2014-08-22  ",
      "text/html": "<div>\n<style scoped>\n    .dataframe tbody tr th:only-of-type {\n        vertical-align: middle;\n    }\n\n    .dataframe tbody tr th {\n        vertical-align: top;\n    }\n\n    .dataframe thead th {\n        text-align: right;\n    }\n</style>\n<table border=\"1\" class=\"dataframe\">\n  <thead>\n    <tr style=\"text-align: right;\">\n      <th></th>\n      <th>employee_id</th>\n      <th>company_id</th>\n      <th>dept</th>\n      <th>seniority</th>\n      <th>salary</th>\n      <th>join_date</th>\n      <th>quit_date</th>\n    </tr>\n  </thead>\n  <tbody>\n    <tr>\n      <th>0</th>\n      <td>13021.0</td>\n      <td>7</td>\n      <td>customer_service</td>\n      <td>28</td>\n      <td>89000.0</td>\n      <td>2014-03-24</td>\n      <td>2015-10-30</td>\n    </tr>\n    <tr>\n      <th>1</th>\n      <td>825355.0</td>\n      <td>7</td>\n      <td>marketing</td>\n      <td>20</td>\n      <td>183000.0</td>\n      <td>2013-04-29</td>\n      <td>2014-04-04</td>\n    </tr>\n    <tr>\n      <th>2</th>\n      <td>927315.0</td>\n      <td>4</td>\n      <td>marketing</td>\n      <td>14</td>\n      <td>101000.0</td>\n      <td>2014-10-13</td>\n      <td>NaT</td>\n    </tr>\n    <tr>\n      <th>3</th>\n      <td>662910.0</td>\n      <td>7</td>\n      <td>customer_service</td>\n      <td>20</td>\n      <td>115000.0</td>\n      <td>2012-05-14</td>\n      <td>2013-06-07</td>\n    </tr>\n    <tr>\n      <th>4</th>\n      <td>256971.0</td>\n      <td>2</td>\n      <td>data_science</td>\n      <td>23</td>\n      <td>276000.0</td>\n      <td>2011-10-17</td>\n      <td>2014-08-22</td>\n    </tr>\n  </tbody>\n</table>\n</div>"
     },
     "execution_count": 2,
     "metadata": {},
     "output_type": "execute_result"
    }
   ],
   "source": [
    "data = pd.read_csv('./tkc_dataset/03. employee_retention.csv', parse_dates=['join_date', 'quit_date'])\n",
    "data.head()"
   ],
   "metadata": {
    "collapsed": false,
    "pycharm": {
     "name": "#%%\n"
    }
   }
  },
  {
   "cell_type": "code",
   "execution_count": 3,
   "outputs": [
    {
     "name": "stdout",
     "output_type": "stream",
     "text": [
      "<class 'pandas.core.frame.DataFrame'>\n",
      "RangeIndex: 24702 entries, 0 to 24701\n",
      "Data columns (total 7 columns):\n",
      " #   Column       Non-Null Count  Dtype         \n",
      "---  ------       --------------  -----         \n",
      " 0   employee_id  24702 non-null  float64       \n",
      " 1   company_id   24702 non-null  int64         \n",
      " 2   dept         24702 non-null  object        \n",
      " 3   seniority    24702 non-null  int64         \n",
      " 4   salary       24702 non-null  float64       \n",
      " 5   join_date    24702 non-null  datetime64[ns]\n",
      " 6   quit_date    13510 non-null  datetime64[ns]\n",
      "dtypes: datetime64[ns](2), float64(2), int64(2), object(1)\n",
      "memory usage: 1.3+ MB\n"
     ]
    }
   ],
   "source": [
    "data.info()"
   ],
   "metadata": {
    "collapsed": false,
    "pycharm": {
     "name": "#%%\n"
    }
   }
  },
  {
   "cell_type": "code",
   "execution_count": 4,
   "outputs": [
    {
     "data": {
      "text/plain": "         employee_id    company_id     seniority         salary\ncount   24702.000000  24702.000000  24702.000000   24702.000000\nmean   501604.403530      3.426969     14.127803  138183.345478\nstd    288909.026101      2.700011      8.089520   76058.184573\nmin        36.000000      1.000000      1.000000   17000.000000\n25%    250133.750000      1.000000      7.000000   79000.000000\n50%    500793.000000      2.000000     14.000000  123000.000000\n75%    753137.250000      5.000000     21.000000  187000.000000\nmax    999969.000000     12.000000     99.000000  408000.000000",
      "text/html": "<div>\n<style scoped>\n    .dataframe tbody tr th:only-of-type {\n        vertical-align: middle;\n    }\n\n    .dataframe tbody tr th {\n        vertical-align: top;\n    }\n\n    .dataframe thead th {\n        text-align: right;\n    }\n</style>\n<table border=\"1\" class=\"dataframe\">\n  <thead>\n    <tr style=\"text-align: right;\">\n      <th></th>\n      <th>employee_id</th>\n      <th>company_id</th>\n      <th>seniority</th>\n      <th>salary</th>\n    </tr>\n  </thead>\n  <tbody>\n    <tr>\n      <th>count</th>\n      <td>24702.000000</td>\n      <td>24702.000000</td>\n      <td>24702.000000</td>\n      <td>24702.000000</td>\n    </tr>\n    <tr>\n      <th>mean</th>\n      <td>501604.403530</td>\n      <td>3.426969</td>\n      <td>14.127803</td>\n      <td>138183.345478</td>\n    </tr>\n    <tr>\n      <th>std</th>\n      <td>288909.026101</td>\n      <td>2.700011</td>\n      <td>8.089520</td>\n      <td>76058.184573</td>\n    </tr>\n    <tr>\n      <th>min</th>\n      <td>36.000000</td>\n      <td>1.000000</td>\n      <td>1.000000</td>\n      <td>17000.000000</td>\n    </tr>\n    <tr>\n      <th>25%</th>\n      <td>250133.750000</td>\n      <td>1.000000</td>\n      <td>7.000000</td>\n      <td>79000.000000</td>\n    </tr>\n    <tr>\n      <th>50%</th>\n      <td>500793.000000</td>\n      <td>2.000000</td>\n      <td>14.000000</td>\n      <td>123000.000000</td>\n    </tr>\n    <tr>\n      <th>75%</th>\n      <td>753137.250000</td>\n      <td>5.000000</td>\n      <td>21.000000</td>\n      <td>187000.000000</td>\n    </tr>\n    <tr>\n      <th>max</th>\n      <td>999969.000000</td>\n      <td>12.000000</td>\n      <td>99.000000</td>\n      <td>408000.000000</td>\n    </tr>\n  </tbody>\n</table>\n</div>"
     },
     "execution_count": 4,
     "metadata": {},
     "output_type": "execute_result"
    }
   ],
   "source": [
    "data.describe()"
   ],
   "metadata": {
    "collapsed": false,
    "pycharm": {
     "name": "#%%\n"
    }
   }
  },
  {
   "cell_type": "code",
   "execution_count": 5,
   "outputs": [
    {
     "data": {
      "text/plain": "employee_id        0\ncompany_id         0\ndept               0\nseniority          0\nsalary             0\njoin_date          0\nquit_date      11192\ndtype: int64"
     },
     "execution_count": 5,
     "metadata": {},
     "output_type": "execute_result"
    }
   ],
   "source": [
    "data.isnull().sum()"
   ],
   "metadata": {
    "collapsed": false,
    "pycharm": {
     "name": "#%%\n"
    }
   }
  },
  {
   "cell_type": "code",
   "execution_count": null,
   "outputs": [],
   "source": [
    "unique_date = pd.date_range(start='2011-01-24', end='2015-12-13', freq='D')\n",
    "unique_company = sorted(data['company_id'].unique())\n",
    "\n",
    "day = []\n",
    "coompany = []\n",
    "headcount = []\n",
    "\n",
    "for date in unique_date:\n",
    "    for idx in unique_company:\n",
    "        total_join = len(data(data['join_date']))"
   ],
   "metadata": {
    "collapsed": false,
    "pycharm": {
     "name": "#%%\n"
    }
   }
  }
 ],
 "metadata": {
  "kernelspec": {
   "display_name": "Python 3",
   "language": "python",
   "name": "python3"
  },
  "language_info": {
   "codemirror_mode": {
    "name": "ipython",
    "version": 2
   },
   "file_extension": ".py",
   "mimetype": "text/x-python",
   "name": "python",
   "nbconvert_exporter": "python",
   "pygments_lexer": "ipython2",
   "version": "2.7.6"
  }
 },
 "nbformat": 4,
 "nbformat_minor": 0
}